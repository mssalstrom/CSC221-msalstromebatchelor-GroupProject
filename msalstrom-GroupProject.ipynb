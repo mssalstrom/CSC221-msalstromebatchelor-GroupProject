{
 "cells": [
  {
   "cell_type": "code",
   "execution_count": 1,
   "id": "41a338ff",
   "metadata": {},
   "outputs": [],
   "source": [
    "from urllib.request import urlopen\n",
    "from bs4 import BeautifulSoup\n",
    "import pandas as pd\n",
    "import os.path"
   ]
  },
  {
   "cell_type": "code",
   "execution_count": 2,
   "id": "516c8075",
   "metadata": {},
   "outputs": [],
   "source": [
    "url = \"https://en.wikipedia.org/wiki/List_of_all-time_NFL_win%E2%80%93loss_records\"\n",
    "page = urlopen(url)\n",
    "soup = BeautifulSoup(page.read(), 'lxml')\n",
    "my_tables = soup.find_all('table', {'class': 'wikitable sortable'})  "
   ]
  },
  {
   "cell_type": "code",
   "execution_count": 3,
   "id": "6bf0a057",
   "metadata": {},
   "outputs": [],
   "source": [
    "rank = []\n",
    "team = []\n",
    "gp = []\n",
    "won = []\n",
    "lost = []\n",
    "pct = []\n",
    "last_playoff = []\n",
    "division = []"
   ]
  },
  {
   "cell_type": "code",
   "execution_count": 5,
   "id": "fad6f43d",
   "metadata": {},
   "outputs": [],
   "source": [
    "right_table = my_tables[1]\n",
    "for row in right_table.find_all('tr'):\n",
    "    cells = row.find_all('td')\n",
    "    if len(cells) == 8:\n",
    "        rank.append(cells[0].find(text=True).strip(\"\\n\"))\n",
    "        team.append(cells[1].find(text=True).strip(\"\\n\"))\n",
    "        gp.append(cells[2].find(text=True).strip(\"\\n\"))\n",
    "        won.append(cells[3].find(text=True).strip(\"\\n\"))\n",
    "        lost.append(cells[4].find(text=True).strip(\"\\n\"))\n",
    "        pct.append(cells[5].find(text=True).strip(\"\\n\"))\n",
    "        last_playoff.append(cells[6].find(text=True).strip(\"\\n\"))\n",
    "        division.append(cells[7].find(text=True).strip(\"\\n\"))"
   ]
  },
  {
   "cell_type": "code",
   "execution_count": 6,
   "id": "bbafb61e",
   "metadata": {},
   "outputs": [
    {
     "name": "stdout",
     "output_type": "stream",
     "text": [
      "   rank                   team  gp Won Lost  Pct. Last playoff   Division\n",
      "0     1   New England Patriots  59  37   22  .627         2021   AFC East\n",
      "1     2    San Francisco 49ers  59  36   23  .610         2022   NFC West\n",
      "2     3      Green Bay Packers  61  36   25  .590         2021  NFC North\n",
      "3     4       Baltimore Ravens  28  16   12  .571         2022  AFC North\n",
      "4     6      Las Vegas Raiders  45  25   20  .556         2021   AFC West\n",
      "5     7         Denver Broncos  42  23   19  .548         2015   AFC West\n",
      "6     8         Dallas Cowboys  66  36   30  .545         2022   NFC East\n",
      "7     9  Washington Commanders  43  23   20  .535         2020   NFC East\n",
      "8    10      Carolina Panthers  17   9    8  .529         2017  NFC South\n",
      "9    11    Philadelphia Eagles  50  25   25  .500         2022   NFC East\n",
      "10   14       Los Angeles Rams  53  26   27  .491         2021   NFC West\n",
      "11   15        New York Giants  51  25   26  .490         2022   NFC East\n",
      "12   16     Kansas City Chiefs  41  20   21  .488         2022   AFC West\n",
      "13   17          New York Jets  25  12   13  .480         2010   AFC East\n",
      "14   18     Indianapolis Colts  48  23   25  .479         2020  AFC South\n",
      "15   19         Miami Dolphins  42  20   22  .476         2022   AFC East\n",
      "16   20          Buffalo Bills  38  18   20  .474         2022   AFC East\n",
      "17   21       Seattle Seahawks  36  17   19  .472         2022   NFC West\n",
      "18   22          Chicago Bears  37  17   20  .459         2020  NFC North\n",
      "19   23     New Orleans Saints  23  10   13  .435         2020  NFC South\n",
      "20   24       Tennessee Titans  39  17   23  .425         2021  AFC South\n",
      "21   25        Atlanta Falcons  24  10   14  .417         2017  NFC South\n",
      "22   26      Arizona Cardinals  17   7   10  .412         2021   NFC West\n",
      "23   27      Minnesota Vikings  52  21   31  .404         2022  NFC North\n",
      "24   28         Houston Texans  10   4    6  .400         2019  AFC South\n",
      "25   29   Los Angeles Chargers  31  12   19  .387         2022   AFC West\n",
      "26   30     Cincinnati Bengals  26  10   16  .385         2022  AFC North\n",
      "27   31       Cleveland Browns  33  12   21  .364         2020  AFC North\n",
      "28   32          Detroit Lions  20   7   13  .350         2016  NFC North\n"
     ]
    }
   ],
   "source": [
    "df = pd.DataFrame(rank, columns=['rank'])\n",
    "df['team'] = team\n",
    "df['gp'] = gp\n",
    "df['Won'] = won\n",
    "df['Lost'] = lost\n",
    "df['Pct.'] = pct\n",
    "df['Last playoff'] = last_playoff\n",
    "df['Division'] = division\n",
    "print(df)"
   ]
  },
  {
   "cell_type": "code",
   "execution_count": 7,
   "id": "af7f4a61",
   "metadata": {},
   "outputs": [
    {
     "name": "stdout",
     "output_type": "stream",
     "text": [
      "File webscrape_data.csv created\n"
     ]
    }
   ],
   "source": [
    "df.to_csv('webscrape_data.csv', encoding='utf-8', index=False)\n",
    "path = './webscrape_data.csv'\n",
    "if os.path.exists(path):\n",
    "    print('File webscrape_data.csv created')"
   ]
  },
  {
   "cell_type": "code",
   "execution_count": null,
   "id": "29066260",
   "metadata": {},
   "outputs": [],
   "source": []
  }
 ],
 "metadata": {
  "kernelspec": {
   "display_name": "Python 3 (ipykernel)",
   "language": "python",
   "name": "python3"
  },
  "language_info": {
   "codemirror_mode": {
    "name": "ipython",
    "version": 3
   },
   "file_extension": ".py",
   "mimetype": "text/x-python",
   "name": "python",
   "nbconvert_exporter": "python",
   "pygments_lexer": "ipython3",
   "version": "3.9.13"
  }
 },
 "nbformat": 4,
 "nbformat_minor": 5
}
